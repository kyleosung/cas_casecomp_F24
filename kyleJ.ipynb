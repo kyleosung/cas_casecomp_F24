{
 "cells": [
  {
   "cell_type": "code",
   "execution_count": null,
   "metadata": {},
   "outputs": [],
   "source": [
    "import pandas as pd\n",
    "\n",
    "df = pd.read_csv('data/data_cleaned.csv', index_col=0)\n",
    "# df = df.drop(columns=['student_id', 'name', 'is_female'])\n",
    "df.head()"
   ]
  },
  {
   "cell_type": "code",
   "execution_count": null,
   "metadata": {},
   "outputs": [],
   "source": [
    "for x_label in df.columns:\n",
    "    for y_label in ['risk_tier', 'amount']:\n",
    "        \n",
    "        if x_label == y_label:\n",
    "            continue\n",
    "        \n",
    "        X = df[x_label]\n",
    "        y = df[y_label]\n",
    "\n",
    "        import matplotlib.pyplot as plt\n",
    "\n",
    "        plt.scatter(X, y)\n",
    "        plt.xlabel(f'{x_label}')\n",
    "        plt.ylabel(f'{y_label}')\n",
    "        plt.title(f'Personal Property: {y_label} vs {x_label}')\n",
    "        plt.show()"
   ]
  }
 ],
 "metadata": {
  "kernelspec": {
   "display_name": "Python 3",
   "language": "python",
   "name": "python3"
  },
  "language_info": {
   "name": "python",
   "version": "3.11.5"
  }
 },
 "nbformat": 4,
 "nbformat_minor": 2
}
